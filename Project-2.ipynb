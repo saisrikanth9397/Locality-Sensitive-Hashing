{
 "cells": [
  {
   "cell_type": "code",
   "execution_count": null,
   "metadata": {},
   "outputs": [],
   "source": [
    "# ENTER YOUR NAME AND ID HERE"
   ]
  },
  {
   "cell_type": "markdown",
   "metadata": {},
   "source": [
    "# Project-2: Locality Sensitive Hashing"
   ]
  },
  {
   "cell_type": "code",
   "execution_count": null,
   "metadata": {},
   "outputs": [],
   "source": [
    "import random\n",
    "import os\n",
    "import numpy as np\n",
    "\n",
    "from random import randrange\n",
    "from shutil import copyfile"
   ]
  },
  {
   "cell_type": "markdown",
   "metadata": {},
   "source": [
    "Suspicious datasets for this project will be in <b>Suspicious</b> directory\n",
    "\n",
    "\n",
    "Your query datasets will be in <b>Original</b> directory\n",
    "\n",
    "\n",
    "You have to use any one original Wikipedia article from <b>Original</b> for <b>Fact Checks</b> steps"
   ]
  },
  {
   "cell_type": "code",
   "execution_count": null,
   "metadata": {},
   "outputs": [],
   "source": []
  },
  {
   "cell_type": "markdown",
   "metadata": {},
   "source": [
    "### STEP - 1: Shingling (20 points)"
   ]
  },
  {
   "cell_type": "code",
   "execution_count": null,
   "metadata": {},
   "outputs": [],
   "source": [
    "# Type your code here... \n",
    "# Create necessary number of cells below this cell\n",
    "k = 3\n",
    "\n",
    "# NOTE: No complex text processing is required\n",
    "# convert just upper case characters to lower case\n"
   ]
  },
  {
   "cell_type": "code",
   "execution_count": null,
   "metadata": {},
   "outputs": [],
   "source": []
  },
  {
   "cell_type": "raw",
   "metadata": {},
   "source": [
    "Report results (number of unique k-shingles) for k={3,4,5} below:\n",
    "1. k=3:\n",
    "2. k=4:\n",
    "3. k=5:"
   ]
  },
  {
   "cell_type": "code",
   "execution_count": null,
   "metadata": {},
   "outputs": [],
   "source": [
    "# Type your code to get the 5-shingle index here\n"
   ]
  },
  {
   "cell_type": "code",
   "execution_count": null,
   "metadata": {},
   "outputs": [],
   "source": []
  },
  {
   "cell_type": "markdown",
   "metadata": {},
   "source": [
    "### STEP - 2: Min-Hashing (40 points)"
   ]
  },
  {
   "cell_type": "code",
   "execution_count": null,
   "metadata": {},
   "outputs": [],
   "source": [
    "# ***************************************************NEW***********************************************************\n",
    "# Generate Hash functions - \n",
    "    # We use (ax + b) mod N formula to permute shingle index\n",
    "    # where a,b are random numbers, N total index size, and x is the index\n",
    "# We need to do L permutations - In other words we need to have L permutations (lists) of new indexes\n",
    "# Following function takes total index size N and L as arguments\n",
    "    # And returns L new lists of size N\n",
    "    \n",
    "def get_hash_functions(N,L):\n",
    "    hash_functions = []\n",
    "    \n",
    "    for itr in range(L):\n",
    "        a=randrange(1,400)\n",
    "        b=randrange(1,400)\n",
    "        \n",
    "        new_hash_function = []\n",
    "        for i in range(N):\n",
    "            new_hash_function.append((a * i + b) % N)\n",
    "        \n",
    "        hash_functions.append(new_hash_function)\n",
    "    return hash_functions\n",
    "        \n",
    "# test\n",
    "# hash_functions = get_hash_functions(5000,50)"
   ]
  },
  {
   "cell_type": "code",
   "execution_count": null,
   "metadata": {},
   "outputs": [],
   "source": [
    "# Type your code here to generate all L hash functions\n",
    "# Generate hash functions only for shingle index created for k=5\n",
    "L = 50\n",
    "\n"
   ]
  },
  {
   "cell_type": "code",
   "execution_count": null,
   "metadata": {},
   "outputs": [],
   "source": []
  },
  {
   "cell_type": "code",
   "execution_count": null,
   "metadata": {},
   "outputs": [],
   "source": [
    "# Type your code here to get the final signature matrix S here\n"
   ]
  },
  {
   "cell_type": "code",
   "execution_count": null,
   "metadata": {},
   "outputs": [],
   "source": []
  },
  {
   "cell_type": "code",
   "execution_count": null,
   "metadata": {},
   "outputs": [],
   "source": [
    "# Type your code here to do the fact check \n",
    "#      with any one query document in the 'Original' directory\n",
    "\n",
    "original = 'Original/orig_taskc.txt'\n",
    "\n",
    "# STEP-1: Generate 5-shingles \n",
    "    # (if any shingles are not present in your shingle index, simply ignore them)\n",
    "    \n",
    "    \n",
    "    \n",
    "# STEP-2: Generate signature vector from L hash functions\n",
    "\n",
    "\n",
    "\n",
    "# STEP-3: Calculate Jaccard similarity of signature vector of orginal doc.\n",
    "    # and all other documents \n",
    "    \n",
    "t = 0.85\n",
    "\n",
    "\n",
    "# STEP-4: Facts Checks\n",
    "# For each L = {50,100,200,500,1000}, report all documents (file_names) below that have Jaccard similarity > t=0.85\n",
    "# Sort the documents in decreasing order of the Jaccard similarity\n",
    "\n"
   ]
  },
  {
   "cell_type": "code",
   "execution_count": null,
   "metadata": {},
   "outputs": [],
   "source": []
  },
  {
   "cell_type": "markdown",
   "metadata": {},
   "source": [
    "### STEP - 3: LSH (30 points)"
   ]
  },
  {
   "cell_type": "code",
   "execution_count": null,
   "metadata": {},
   "outputs": [],
   "source": [
    "# Type your code here to hash signature matrix into B buckets\n",
    "# Use the technique to split the signature matrix into b bands of r rows\n",
    "# Convert only the signature matrix generated with L=1000\n",
    "\n",
    "b = 50\n",
    "r = 20\n",
    "B = 199\n"
   ]
  },
  {
   "cell_type": "code",
   "execution_count": null,
   "metadata": {},
   "outputs": [],
   "source": []
  },
  {
   "cell_type": "code",
   "execution_count": null,
   "metadata": {},
   "outputs": [],
   "source": [
    "# Type your code here to do generate candidate documents\n",
    "# Follow all steps from STEP - 2 fact check (except the Jaccard similarity part)\n",
    "\n",
    "# STEP - 1: Split each original document signature vector into b bands of r rows\n",
    "\n",
    "# STEP - 2: Hash using the same hash functions created for \n",
    "    # signature matrix hashing (in the previous cell)\n",
    "    "
   ]
  },
  {
   "cell_type": "code",
   "execution_count": null,
   "metadata": {},
   "outputs": [],
   "source": []
  },
  {
   "cell_type": "code",
   "execution_count": null,
   "metadata": {},
   "outputs": [],
   "source": [
    "# Type your code here to do the fact check\n",
    "# Calculate Jaccard similarity of the oiginal document with only \n",
    "    # candidate documents\n",
    "    "
   ]
  },
  {
   "cell_type": "code",
   "execution_count": null,
   "metadata": {},
   "outputs": [],
   "source": []
  },
  {
   "cell_type": "raw",
   "metadata": {},
   "source": [
    "Report all documents (file_names) below that have Jaccard similarity > t=0.85\n",
    "Sort the documents in decreasing order of the Jaccard similarity\n"
   ]
  },
  {
   "cell_type": "code",
   "execution_count": null,
   "metadata": {},
   "outputs": [],
   "source": []
  },
  {
   "cell_type": "raw",
   "metadata": {},
   "source": [
    "Report the list of false positives and false negatives below\n",
    "\n"
   ]
  },
  {
   "cell_type": "code",
   "execution_count": null,
   "metadata": {},
   "outputs": [],
   "source": []
  }
 ],
 "metadata": {
  "kernelspec": {
   "display_name": "Python 3",
   "language": "python",
   "name": "python3"
  },
  "language_info": {
   "codemirror_mode": {
    "name": "ipython",
    "version": 3
   },
   "file_extension": ".py",
   "mimetype": "text/x-python",
   "name": "python",
   "nbconvert_exporter": "python",
   "pygments_lexer": "ipython3",
   "version": "3.8.5"
  }
 },
 "nbformat": 4,
 "nbformat_minor": 2
}
